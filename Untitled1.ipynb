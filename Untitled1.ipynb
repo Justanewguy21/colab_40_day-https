{
  "nbformat": 4,
  "nbformat_minor": 0,
  "metadata": {
    "colab": {
      "provenance": [],
      "authorship_tag": "ABX9TyNKhNXr3+Y14Yc32doPl2KD",
      "include_colab_link": true
    },
    "kernelspec": {
      "name": "python3",
      "display_name": "Python 3"
    },
    "language_info": {
      "name": "python"
    }
  },
  "cells": [
    {
      "cell_type": "markdown",
      "metadata": {
        "id": "view-in-github",
        "colab_type": "text"
      },
      "source": [
        "<a href=\"https://colab.research.google.com/github/Justanewguy21/colab_40_day-https/blob/main/Untitled1.ipynb\" target=\"_parent\"><img src=\"https://colab.research.google.com/assets/colab-badge.svg\" alt=\"Open In Colab\"/></a>"
      ]
    },
    {
      "cell_type": "code",
      "source": [
        "import numpy as np\n",
        "import torch\n",
        "import tensorflow as tf\n",
        "#numpy\n",
        "npdata = np.array([1,2,3,4,5])\n",
        "\n",
        "\n",
        "data2D = np.array([[1,2,3],\n",
        "                  [4,5,6]])\n",
        "a = np.shape(data2D)\n",
        "b = data2D.dtype\n",
        "print(f'Data 2D:{data2D}, Shape of data2Dnp:{a}, data type of data2Dnp: {b}')\n",
        "print('\\n')\n",
        "#torch\n",
        "data_torch = torch.tensor([[1,2,3], [4,5,6]])\n",
        "a = torch.Tensor(data_torch).dtype\n",
        "b = data_torch.size()\n",
        "print(f'data_torch:{data_torch}, type: {a}, size: {b}')\n",
        "\n",
        "#tensorflow\n",
        "print('\\n')\n",
        "D_tensor = tf.convert_to_tensor([[1,2,2],[5,5,7]])\n",
        "a = tf.shape(D_tensor)\n",
        "b = D_tensor.dtype\n",
        "print(f'D_tensor:{D_tensor}, shape: {a}, type: {b}')\n",
        "\n",
        "\n",
        "\n",
        "\n",
        "\n",
        "\n",
        "\n",
        "\n",
        "\n",
        "\n"
      ],
      "metadata": {
        "colab": {
          "base_uri": "https://localhost:8080/"
        },
        "id": "FGLFkSqA-EeT",
        "outputId": "92331e7a-fbf1-4e77-97f8-2cdd59218793"
      },
      "execution_count": null,
      "outputs": [
        {
          "output_type": "stream",
          "name": "stdout",
          "text": [
            "Data 2D:[[1 2 3]\n",
            " [4 5 6]], Shape of data2Dnp:(2, 3), data type of data2Dnp: int64\n",
            "\n",
            "\n",
            "data_torch:tensor([[1, 2, 3],\n",
            "        [4, 5, 6]]), type: torch.int64, size: torch.Size([2, 3])\n",
            "\n",
            "\n",
            "D_tensor:[[1 2 2]\n",
            " [5 5 7]], shape: [2 3], type: <dtype: 'int32'>\n"
          ]
        }
      ]
    },
    {
      "cell_type": "code",
      "execution_count": null,
      "metadata": {
        "colab": {
          "base_uri": "https://localhost:8080/",
          "height": 35
        },
        "id": "CSKyjHR2pKl2",
        "outputId": "4db86366-4661-4999-c13b-68ad8ef0d7cb"
      },
      "outputs": [
        {
          "output_type": "execute_result",
          "data": {
            "text/plain": [
              "'Ket qua, quy  meo'"
            ],
            "application/vnd.google.colaboratory.intrinsic+json": {
              "type": "string"
            }
          },
          "metadata": {},
          "execution_count": 10
        }
      ],
      "source": [
        "def calculate_can_chi_calendar(year):\n",
        "\n",
        "  can = ['canh', 'tan', 'nham', 'quy', 'giap', 'at', 'binh', 'dinh', 'mau', 'ku']\n",
        "  chi = ['than', 'dau', 'tuat', 'hoi', 'ty', 'suu', 'dan', 'meo', 'thin', 'ty', 'ngo', 'mui']\n",
        "  can_index = year %10\n",
        "  chi_index = year%12\n",
        "  result = f'Ket qua, {can[can_index]}  {chi[chi_index]}'\n",
        "  return result\n",
        "calculate_can_chi_calendar(2023)\n"
      ]
    },
    {
      "cell_type": "code",
      "source": [
        "import math\n",
        "def quadfunc (a, b, c):\n",
        "\n",
        "    x1 = 0\n",
        "    x2 = 0\n",
        "\n",
        "    delta = b**2 - 4*a*c\n",
        "    if a ==0:\n",
        "        x1 = (-c) / b\n",
        "        print(x1)\n",
        "    else:\n",
        "        if delta >0:\n",
        "            delta = b**2 - 4*a*c\n",
        "            x1 = (-b + math.sqrt(delta)) / 2*a\n",
        "            x2 = (-b +math.sqrt(delta)) / 2*a\n",
        "            print (f\"nghiem cua pt la {x1}  {x2}\")\n",
        "        elif delta ==0:\n",
        "            x1 = x2 = (-b) / 2*a\n",
        "            print(x1)\n",
        "        else:\n",
        "            print('pt vo nghiem')\n",
        "\n",
        "quadfunc(0, 2 ,1)\n",
        "quadfunc(2,3,4)\n",
        "quadfunc(2,3,-4)"
      ],
      "metadata": {
        "colab": {
          "base_uri": "https://localhost:8080/"
        },
        "id": "KlfHoBFB9o5J",
        "outputId": "2f495243-26ed-4f38-bd5f-293457742de8"
      },
      "execution_count": null,
      "outputs": [
        {
          "output_type": "stream",
          "name": "stdout",
          "text": [
            "-0.5\n",
            "pt vo nghiem\n",
            "nghiem cua pt la 3.4031242374328485  3.4031242374328485\n"
          ]
        }
      ]
    },
    {
      "cell_type": "code",
      "source": [
        "list_data = [1,2,3,4,5,6,7,8,9,10]\n",
        "for i in range(0, 5):\n",
        "  x = list_data[i]\n",
        "  print(x)\n",
        "\n",
        "for i in range(len(list_data)):\n",
        "  if list_data[i] %2 ==1:\n",
        "    x = list_data[i]\n",
        "    print(x)\n",
        "  else:\n",
        "    pass\n",
        "\n",
        "\n",
        "sum = 0\n",
        "for i in range(0, 11):\n",
        "  sum = sum + i\n",
        "print(sum)\n"
      ],
      "metadata": {
        "colab": {
          "base_uri": "https://localhost:8080/"
        },
        "id": "Yt5Q3xRK6qsT",
        "outputId": "67456985-f468-4243-dc62-aeed63bb2598"
      },
      "execution_count": null,
      "outputs": [
        {
          "output_type": "stream",
          "name": "stdout",
          "text": [
            "1\n",
            "2\n",
            "3\n",
            "4\n",
            "5\n",
            "1\n",
            "3\n",
            "5\n",
            "7\n",
            "9\n",
            "55\n"
          ]
        }
      ]
    },
    {
      "cell_type": "code",
      "source": [
        "list_data = [2,4,6,8,10,12]\n",
        "b = [6,7,8]\n",
        "c = [1,2,3]\n",
        "print(list_data)\n",
        "for i in list_data:\n",
        "  if i % 3 == 0:\n",
        "    list_data.remove(i)\n",
        "print(list_data)\n",
        "list_data.extend(c)\n",
        "print(list_data)\n",
        "for i in range(1,4):\n",
        "  list_data.append(i)\n",
        "print(list_data)\n",
        "\n",
        "\n",
        "for i in range(len(list_data)):\n",
        "  if list_data[i] % 2 ==0 or list_data[i] % 5 ==0:\n",
        "    list_data[i] = 0\n",
        "  else:\n",
        "    pass\n",
        "print(list_data)\n",
        "\n",
        "\n",
        "\n",
        "\n",
        "\n"
      ],
      "metadata": {
        "colab": {
          "base_uri": "https://localhost:8080/"
        },
        "id": "mHfbRs4YgtJF",
        "outputId": "80829d12-37e8-4be6-f8aa-f2c8e27330d8"
      },
      "execution_count": null,
      "outputs": [
        {
          "output_type": "stream",
          "name": "stdout",
          "text": [
            "[2, 4, 6, 8, 10, 12]\n",
            "[2, 4, 8, 10]\n",
            "[2, 4, 8, 10, 1, 2, 3]\n",
            "[2, 4, 8, 10, 1, 2, 3, 1, 2, 3]\n",
            "[0, 0, 0, 0, 1, 0, 3, 1, 0, 3]\n"
          ]
        }
      ]
    },
    {
      "cell_type": "code",
      "source": [
        "foodlist = [\n",
        "          ['Bo', 'pizza', 'sua',],\n",
        "          ['xuc xich','tao', 'kem'],\n",
        "          ['ca rot','banh dau', 'cup cake']\n",
        "    ]\n",
        "\n",
        "searchitem = ['ca rot', 'tao', 'sua']\n",
        "for i, row in enumerate(foodlist, start =1):\n",
        "  for j, item in enumerate(row, start = 1):\n",
        "    if item in searchitem:\n",
        "      print(f'{item} dc tim thay o hang {j} va cot {i}')\n",
        "\n",
        "\n"
      ],
      "metadata": {
        "id": "yiizL4xpgsSm",
        "colab": {
          "base_uri": "https://localhost:8080/"
        },
        "outputId": "ada93eab-903b-4eb6-dee7-b4dcca4a3a22"
      },
      "execution_count": null,
      "outputs": [
        {
          "output_type": "stream",
          "name": "stdout",
          "text": [
            "3\n",
            "sua dc tim thay o hang 3 va cot 1\n",
            "tao dc tim thay o hang 2 va cot 2\n",
            "ca rot dc tim thay o hang 1 va cot 3\n"
          ]
        }
      ]
    },
    {
      "cell_type": "code",
      "source": [
        "\n",
        "\n",
        "\n",
        "\n",
        "def median(list_data):\n",
        "  list_data.sort()\n",
        "  a = len(list_data)\n",
        "\n",
        "\n",
        "  if a % 2 ==0:\n",
        "    i = int((a+1) /2-1)\n",
        "    j = int(a /2)\n",
        "    m = (list_data[i] + list_data[j])/2\n",
        "    print(m)\n",
        "\n",
        "\n",
        "  else:\n",
        "    i = int((a+1)/2 -1)\n",
        "    m = list_data[i]\n",
        "    print(m)\n",
        "def filter(list_data,list_odd_filter):\n",
        "  for i in list_data:\n",
        "    if i % 2 !=0:\n",
        "      list_odd_filter.append(i)\n",
        "      list_odd_filter.sort(reverse = True)\n",
        "  return list_odd_filter\n",
        "median([2,4,5])\n",
        "median([2,3,6,7,8,9])\n",
        "filter([2,3,4,5,6],[])"
      ],
      "metadata": {
        "colab": {
          "base_uri": "https://localhost:8080/"
        },
        "id": "U0Nsntbq_OwC",
        "outputId": "7a75c0ff-27a2-41e0-eccc-632818b0c944"
      },
      "execution_count": null,
      "outputs": [
        {
          "output_type": "stream",
          "name": "stdout",
          "text": [
            "4\n",
            "6.5\n"
          ]
        },
        {
          "output_type": "execute_result",
          "data": {
            "text/plain": [
              "[5, 3]"
            ]
          },
          "metadata": {},
          "execution_count": 2
        }
      ]
    },
    {
      "cell_type": "code",
      "source": [
        "\n",
        "\n",
        "corpus = [\"Toi thich mon toan\", \"Toi thich AI\", \"Toi thich am nhac\"]\n",
        "token =[]\n",
        "for each in corpus:\n",
        "\n",
        "  x = each.split()\n",
        "  for i in x:\n",
        "    if i not in token:\n",
        "      token.append(i)\n",
        "print(token)\n",
        "\n",
        "\n",
        "input = [\"Toi thich AI thich toan\"]\n",
        "inputtoken = input[0].split()\n",
        "print(inputtoken)\n",
        "vector = []\n",
        "\n",
        "#method1\n",
        "for check in range(len(token)):\n",
        "  a = inputtoken.count(token[check])\n",
        "\n",
        "  vector.append(a)\n",
        "print(vector)\n",
        "#method2\n",
        "#for check in token:\n",
        "\n",
        "  #if check in inputtoken:\n",
        "  #  a = inputtoken.count(check)\n",
        " # else:\n",
        " #   a = 0\n",
        "#  vector.append(a)\n",
        "\n",
        "\n",
        "\n",
        "\n",
        "\n",
        "\n",
        "\n",
        "\n",
        "\n",
        "\n",
        "\n",
        "\n"
      ],
      "metadata": {
        "id": "sL-3Thfr4pPm",
        "colab": {
          "base_uri": "https://localhost:8080/"
        },
        "outputId": "e7d928ae-d04d-4092-d6de-35ff68df5bf7"
      },
      "execution_count": null,
      "outputs": [
        {
          "output_type": "stream",
          "name": "stdout",
          "text": [
            "['Toi', 'thich', 'mon', 'toan', 'AI', 'am', 'nhac']\n",
            "['Toi', 'thich', 'AI', 'thich', 'toan']\n",
            "[1, 2, 0, 1, 1, 0, 0]\n",
            "[1, 2, 0, 1, 1, 0, 0]\n"
          ]
        }
      ]
    },
    {
      "cell_type": "code",
      "source": [
        "lst_data = [1,1.1, None, 1.4, None, 1.5, None, 2.0]\n",
        "\n",
        "# tìm tất cả vị trí có giá trị None\n",
        "\n",
        "index_None1 = []\n",
        "index_None2 = []\n",
        "# Cách 1\n",
        "for i, val in enumerate(lst_data):\n",
        "  if val == None:\n",
        "    print(i)\n",
        "\n",
        "\n",
        "# Cách 2\n",
        "for i in range(len(lst_data)):\n",
        "  if lst_data[i] == None:\n",
        "    index_None2.append(i)\n",
        "\n",
        "print(index_None2)\n",
        "\n",
        "\n",
        "\n",
        "\n",
        "\n",
        "\n",
        "\n",
        "\n",
        "\n"
      ],
      "metadata": {
        "colab": {
          "base_uri": "https://localhost:8080/",
          "height": 222
        },
        "id": "_JoCu5aIRzN1",
        "outputId": "4365ad76-caf3-400d-e3b2-33174f71393f"
      },
      "execution_count": null,
      "outputs": [
        {
          "output_type": "error",
          "ename": "NameError",
          "evalue": "name 'enumurate' is not defined",
          "traceback": [
            "\u001b[0;31m---------------------------------------------------------------------------\u001b[0m",
            "\u001b[0;31mNameError\u001b[0m                                 Traceback (most recent call last)",
            "\u001b[0;32m<ipython-input-46-155465beb5f0>\u001b[0m in \u001b[0;36m<cell line: 8>\u001b[0;34m()\u001b[0m\n\u001b[1;32m      6\u001b[0m \u001b[0mindex_None2\u001b[0m \u001b[0;34m=\u001b[0m \u001b[0;34m[\u001b[0m\u001b[0;34m]\u001b[0m\u001b[0;34m\u001b[0m\u001b[0;34m\u001b[0m\u001b[0m\n\u001b[1;32m      7\u001b[0m \u001b[0;31m# Cách 1\u001b[0m\u001b[0;34m\u001b[0m\u001b[0;34m\u001b[0m\u001b[0m\n\u001b[0;32m----> 8\u001b[0;31m \u001b[0;32mfor\u001b[0m \u001b[0mi\u001b[0m\u001b[0;34m,\u001b[0m \u001b[0mval\u001b[0m \u001b[0;32min\u001b[0m \u001b[0menumurate\u001b[0m\u001b[0;34m(\u001b[0m\u001b[0mlst_data\u001b[0m\u001b[0;34m)\u001b[0m\u001b[0;34m:\u001b[0m\u001b[0;34m\u001b[0m\u001b[0;34m\u001b[0m\u001b[0m\n\u001b[0m\u001b[1;32m      9\u001b[0m   \u001b[0;32mif\u001b[0m \u001b[0mval\u001b[0m \u001b[0;34m==\u001b[0m \u001b[0;32mNone\u001b[0m\u001b[0;34m:\u001b[0m\u001b[0;34m\u001b[0m\u001b[0;34m\u001b[0m\u001b[0m\n\u001b[1;32m     10\u001b[0m     \u001b[0mprint\u001b[0m\u001b[0;34m(\u001b[0m\u001b[0mi\u001b[0m\u001b[0;34m)\u001b[0m\u001b[0;34m\u001b[0m\u001b[0;34m\u001b[0m\u001b[0m\n",
            "\u001b[0;31mNameError\u001b[0m: name 'enumurate' is not defined"
          ]
        }
      ]
    },
    {
      "cell_type": "code",
      "source": [],
      "metadata": {
        "id": "CFb49K6deBgq"
      },
      "execution_count": null,
      "outputs": []
    },
    {
      "cell_type": "code",
      "source": [],
      "metadata": {
        "id": "0DZBVOxbqA-4"
      },
      "execution_count": null,
      "outputs": []
    }
  ]
}